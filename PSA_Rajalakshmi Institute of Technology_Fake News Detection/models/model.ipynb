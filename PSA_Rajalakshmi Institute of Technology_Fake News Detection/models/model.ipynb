{
 "cells": [
  {
   "cell_type": "code",
   "execution_count": null,
   "metadata": {},
   "outputs": [],
   "source": [
    "#The code for the model alone is included here,the previous steps such as data preprocessing,cleaning,are entirely included in the code directory\n"
   ]
  },
  {
   "cell_type": "code",
   "execution_count": null,
   "metadata": {},
   "outputs": [],
   "source": [
    "x=data['text']#independent variable\n",
    "y=data['label']#dependent variable"
   ]
  },
  {
   "cell_type": "code",
   "execution_count": null,
   "metadata": {},
   "outputs": [],
   "source": [
    "#Splitting the dataset into training and testing\n",
    "_train,x_test,y_train,y_test=train_test_split(x,y,test_size=0.25)"
   ]
  },
  {
   "cell_type": "code",
   "execution_count": null,
   "metadata": {},
   "outputs": [],
   "source": [
    "#Text Vectorization\n",
    "from sklearn.feature_extraction.text import TfidfVectorizer\n",
    "Tfidf=TfidfVectorizer()\n",
    "xv_train=Tfidf.fit_transform(x_train)\n",
    "xv_test=Tfidf.transform(x_test)\n"
   ]
  },
  {
   "cell_type": "code",
   "execution_count": null,
   "metadata": {},
   "outputs": [],
   "source": [
    "#Model creation and training\n",
    "LR=LogisticRegression()\n",
    "LR.fit(xv_train,y_train)\n",
    "LR_prediction=LR.predict(xv_test)\n",
    "accuracy=accuracy_score(y_test,LR_prediction)\n",
    "print(accuracy)"
   ]
  }
 ],
 "metadata": {
  "language_info": {
   "name": "python"
  },
  "orig_nbformat": 4
 },
 "nbformat": 4,
 "nbformat_minor": 2
}
